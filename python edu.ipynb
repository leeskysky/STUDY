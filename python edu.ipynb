{
 "cells": [
  {
   "cell_type": "code",
   "execution_count": 3,
   "metadata": {},
   "outputs": [],
   "source": [
    "import pandas as pd\n",
    "import numpy as np"
   ]
  },
  {
   "cell_type": "code",
   "execution_count": 45,
   "metadata": {},
   "outputs": [
    {
     "name": "stdout",
     "output_type": "stream",
     "text": [
      "통과!: 동영\n",
      "남은사람: ['신범', '병준', '하늘', '연우', '현덕', '영철', '수비']\n",
      "통과!: 신범\n",
      "남은사람: ['병준', '하늘', '연우', '현덕', '영철', '수비']\n",
      "통과!: 병준\n",
      "남은사람: ['하늘', '연우', '현덕', '영철', '수비']\n",
      "통과!: 하늘\n",
      "남은사람: ['연우', '현덕', '영철', '수비']\n",
      "통과!: 연우\n",
      "남은사람: ['현덕', '영철', '수비']\n",
      "통과!: 현덕\n",
      "남은사람: ['영철', '수비']\n",
      "통과!: 영철\n",
      "남은사람: ['수비']\n",
      "당첨: 수비\n"
     ]
    }
   ],
   "source": [
    "import random\n",
    "a = [\"하늘\", \"수비\", \"동영\", \"연우\", \"신범\", \"영철\",\"현덕\",\"병준\"]\n",
    "random.shuffle(a)\n",
    "\n",
    "while len(a) > 1:\n",
    "    index_to_remove = 0  # 맨 처음 요소를 제거할 예정\n",
    "    removed_element = a.pop(index_to_remove)\n",
    "    print(f\"통과!: {removed_element}\")\n",
    "    print(f\"남은사람: {a}\")\n",
    "\n",
    "print(f\"당첨: {a[0]}\")\n"
   ]
  },
  {
   "cell_type": "code",
   "execution_count": 2,
   "metadata": {},
   "outputs": [
    {
     "data": {
      "text/plain": [
       "4"
      ]
     },
     "execution_count": 2,
     "metadata": {},
     "output_type": "execute_result"
    }
   ],
   "source": [
    "def add_numbers(x,y):\n",
    "    sum = x+y\n",
    "    return sum\n",
    "\n",
    "add_numbers(1,3)"
   ]
  },
  {
   "cell_type": "code",
   "execution_count": 10,
   "metadata": {},
   "outputs": [
    {
     "name": "stdout",
     "output_type": "stream",
     "text": [
      "전역 변수 값: 15\n"
     ]
    }
   ],
   "source": [
    "global_var =10\n",
    "\n",
    "def func():\n",
    "    local_var = 5\n",
    "    global global_var\n",
    "    global_var += local_var\n",
    "\n",
    "func()\n",
    "print(\"전역 변수 값:\", global_var)"
   ]
  },
  {
   "cell_type": "code",
   "execution_count": 17,
   "metadata": {},
   "outputs": [
    {
     "name": "stdout",
     "output_type": "stream",
     "text": [
      "이름: Alice\n",
      "나이: 25\n"
     ]
    }
   ],
   "source": [
    "class Person:\n",
    "    def __init__(self, name, age):\n",
    "        self.name = name\n",
    "        self.age = age\n",
    "\n",
    "    def display(self):\n",
    "        print(\"이름:\", self.name)\n",
    "        print(\"나이:\", self.age)\n",
    "\n",
    "# Person 클래스의 객체 생성\n",
    "person1 = Person(\"Alice\", 25)\n",
    "person2 = Person(\"Bob\", 30)\n",
    "\n",
    "# 객체의 속성 출력\n",
    "# person1.display()\n",
    "# person2.display()"
   ]
  },
  {
   "cell_type": "code",
   "execution_count": 18,
   "metadata": {},
   "outputs": [],
   "source": [
    "class sky:\n",
    "    def __init__(self, name, age):\n",
    "        self.name = name\n",
    "        self.age = age\n",
    "             \n",
    "    def display(self):\n",
    "        print(\"이름:\", self.name)\n",
    "        print(\"나이:\", self.age)\n",
    "             \n",
    "# Person 클래스의 객체 생성\n",
    "person1 = sky(\"Alice\", 25)\n",
    "person2 = sky(\"Bob\", 30)\n",
    "\n",
    "# 객체의 속성 출력\n"
   ]
  },
  {
   "cell_type": "code",
   "execution_count": 21,
   "metadata": {},
   "outputs": [],
   "source": [
    "#"
   ]
  },
  {
   "attachments": {},
   "cell_type": "markdown",
   "metadata": {},
   "source": []
  },
  {
   "cell_type": "code",
   "execution_count": 31,
   "metadata": {},
   "outputs": [
    {
     "name": "stdout",
     "output_type": "stream",
     "text": [
      "정확도: 0.96\n"
     ]
    }
   ],
   "source": [
    "# 필요한 라이브러리 import\n",
    "from sklearn.datasets import load_breast_cancer\n",
    "from sklearn.model_selection import train_test_split\n",
    "from sklearn.ensemble import RandomForestClassifier\n",
    "from sklearn.metrics import accuracy_score\n",
    "\n",
    "# 유방암 데이터셋 로드\n",
    "data = load_breast_cancer()\n",
    "X = data.data  # 특성 데이터\n",
    "y = data.target  # 레이블 데이터\n",
    "\n",
    "# 데이터셋을 학습용 데이터와 테스트용 데이터로 분할\n",
    "X_train, X_test, y_train, y_test = train_test_split(X, y, test_size=0.2, random_state=42)\n",
    "\n",
    "# Random Forest 모델 학습\n",
    "clf = RandomForestClassifier()\n",
    "clf.fit(X_train, y_train)\n",
    "\n",
    "# 학습된 모델로 예측 수행\n",
    "y_pred = clf.predict(X_test)\n",
    "\n",
    "# 정확도 평가\n",
    "accuracy = accuracy_score(y_test, y_pred)\n",
    "print(\"정확도: {:.2f}\".format(accuracy))"
   ]
  },
  {
   "cell_type": "code",
   "execution_count": 32,
   "metadata": {},
   "outputs": [
    {
     "name": "stdout",
     "output_type": "stream",
     "text": [
      "정확도: 0.96\n"
     ]
    }
   ],
   "source": [
    "# 필요한 라이브러리 import\n",
    "from sklearn.datasets import load_breast_cancer\n",
    "from sklearn.model_selection import train_test_split\n",
    "from sklearn.ensemble import RandomForestClassifier\n",
    "from sklearn.metrics import accuracy_score\n",
    "from sklearn.preprocessing import MinMaxScaler\n",
    "\n",
    "# 유방암 데이터셋 로드\n",
    "data = load_breast_cancer()\n",
    "X = data.data  # 특성 데이터\n",
    "y = data.target  # 레이블 데이터\n",
    "\n",
    "# 데이터셋을 학습용 데이터와 테스트용 데이터로 분할\n",
    "X_train, X_test, y_train, y_test = train_test_split(X, y, test_size=0.2, random_state=42)\n",
    "\n",
    "# MinMaxScaler를 사용하여 데이터 스케일링\n",
    "scaler = MinMaxScaler()\n",
    "X_train_scaled = scaler.fit_transform(X_train)\n",
    "X_test_scaled = scaler.transform(X_test)\n",
    "\n",
    "# Random Forest 모델 학습\n",
    "clf = RandomForestClassifier()\n",
    "clf.fit(X_train_scaled, y_train)\n",
    "\n",
    "# 학습된 모델로 예측 수행\n",
    "y_pred = clf.predict(X_test_scaled)\n",
    "\n",
    "# 정확도 평가\n",
    "accuracy = accuracy_score(y_test, y_pred)\n",
    "print(\"정확도: {:.2f}\".format(accuracy))\n"
   ]
  },
  {
   "cell_type": "code",
   "execution_count": 34,
   "metadata": {},
   "outputs": [
    {
     "data": {
      "text/plain": [
       "array([1, 0, 0, 1, 1, 0, 0, 0, 0, 1, 1, 0, 1, 0, 1, 0, 1, 1, 1, 0, 1, 1,\n",
       "       0, 1, 1, 1, 1, 1, 1, 0, 1, 1, 1, 1, 1, 1, 0, 1, 0, 1, 1, 0, 1, 1,\n",
       "       1, 1, 1, 1, 1, 1, 0, 0, 1, 1, 1, 1, 1, 0, 0, 1, 1, 0, 0, 1, 1, 1,\n",
       "       0, 0, 1, 1, 0, 0, 1, 0, 1, 1, 1, 1, 1, 1, 0, 1, 1, 0, 0, 0, 0, 0,\n",
       "       1, 1, 1, 1, 1, 1, 1, 1, 0, 0, 1, 0, 0, 1, 0, 0, 1, 1, 1, 0, 1, 1,\n",
       "       0, 1, 1, 0])"
      ]
     },
     "execution_count": 34,
     "metadata": {},
     "output_type": "execute_result"
    }
   ],
   "source": [
    "y_pred"
   ]
  },
  {
   "cell_type": "code",
   "execution_count": null,
   "metadata": {},
   "outputs": [],
   "source": []
  }
 ],
 "metadata": {
  "kernelspec": {
   "display_name": "sky",
   "language": "python",
   "name": "conda"
  },
  "language_info": {
   "codemirror_mode": {
    "name": "ipython",
    "version": 3
   },
   "file_extension": ".py",
   "mimetype": "text/x-python",
   "name": "python",
   "nbconvert_exporter": "python",
   "pygments_lexer": "ipython3",
   "version": "3.10.9"
  },
  "orig_nbformat": 4
 },
 "nbformat": 4,
 "nbformat_minor": 2
}
