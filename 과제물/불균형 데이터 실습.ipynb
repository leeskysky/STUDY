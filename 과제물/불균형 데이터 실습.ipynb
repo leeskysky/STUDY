{
 "cells": [
  {
   "cell_type": "markdown",
   "id": "e47d78eb",
   "metadata": {},
   "source": [
    "# 실습 7"
   ]
  },
  {
   "cell_type": "code",
   "execution_count": 2,
   "id": "36a4540b",
   "metadata": {},
   "outputs": [
    {
     "name": "stdout",
     "output_type": "stream",
     "text": [
      "Requirement already satisfied: imbalanced-learn in c:\\users\\user\\anaconda3\\lib\\site-packages (0.9.1)\n",
      "Requirement already satisfied: scikit-learn>=1.1.0 in c:\\users\\user\\anaconda3\\lib\\site-packages (from imbalanced-learn) (1.1.1)\n",
      "Requirement already satisfied: scipy>=1.3.2 in c:\\users\\user\\anaconda3\\lib\\site-packages (from imbalanced-learn) (1.7.3)\n",
      "Requirement already satisfied: numpy>=1.17.3 in c:\\users\\user\\anaconda3\\lib\\site-packages (from imbalanced-learn) (1.21.5)\n",
      "Requirement already satisfied: threadpoolctl>=2.0.0 in c:\\users\\user\\anaconda3\\lib\\site-packages (from imbalanced-learn) (2.2.0)\n",
      "Requirement already satisfied: joblib>=1.0.0 in c:\\users\\user\\anaconda3\\lib\\site-packages (from imbalanced-learn) (1.1.0)\n"
     ]
    }
   ],
   "source": [
    "# !pip install imbalanced-learn\n",
    "\n",
    "import warnings\n",
    "warnings.simplefilter(action='ignore', category=FutureWarning) \n",
    "\n",
    "import numpy as np\n",
    "import pandas as pd\n",
    "%matplotlib inline\n",
    "from matplotlib import pyplot as plt\n",
    "import seaborn as sns\n",
    "from sklearn.datasets import make_classification\n",
    "\n",
    "from imblearn.under_sampling import RandomUnderSampler\n",
    "from imblearn.under_sampling import TomekLinks \n",
    "from imblearn.under_sampling import OneSidedSelection \n",
    "\n",
    "from imblearn.over_sampling import RandomOverSampler\n",
    "from imblearn.over_sampling import SMOTE \n",
    "from imblearn.over_sampling import ADASYN \n",
    "from imblearn.over_sampling import BorderlineSMOTE \n",
    "\n",
    "from sklearn.ensemble import RandomForestClassifier\n",
    "from sklearn.model_selection import RepeatedStratifiedKFold #Cross-Validation \n",
    "from sklearn.model_selection import cross_validate #Cross-Validation \n",
    " \n",
    "import os \n",
    "if os.name == 'nt' :  # Windows OS \n",
    "    font_family = \"Malgun Gothic\"\n",
    "else: # MAC OS \n",
    "    font_family = \"AppleGothic\"\n",
    "\n",
    "sns.set(font=font_family, rc ={\"axes.unicode_minus\" : False})\n",
    "\n",
    "from collections import Counter\n",
    "from matplotlib import pyplot\n",
    "def count_and_plot(y): \n",
    "    counter = Counter(y)\n",
    "    for k,v in counter.items():\n",
    "        print('Class=%d, n=%d (%.3f%%)' % (k, v, v / len(y) * 100))\n",
    "    pyplot.bar(counter.keys(), counter.values())\n",
    "    pyplot.show()"
   ]
  },
  {
   "cell_type": "code",
   "execution_count": 3,
   "id": "1d3dd69b",
   "metadata": {},
   "outputs": [],
   "source": [
    "import os\n",
    "\n",
    "if os.name == 'nt':\n",
    "    font_family = 'Malgun Gothic'\n",
    "else:\n",
    "    font_family = 'AppleGothic'\n",
    "\n",
    "sns.set(font= font_family, rc = {\"axes.unicode_minus\" : False})\n"
   ]
  },
  {
   "cell_type": "code",
   "execution_count": 8,
   "id": "0bca4be8",
   "metadata": {},
   "outputs": [],
   "source": [
    "def RandomForest_Result(x, y, title):\n",
    "    rf = RandomForestClassifier(criterion= 'entropy')\n",
    "    cv_rf = RepeatedStratifiedKFold(n_splits=10, n_repeats=3, random_state=1)\n",
    "    scores = cross_validate(rf, x, y, scoring='f1', cv=cv_rf, n_jobs= -1)\n",
    "    print(title, \":\" , '3-Fold CV f1 score: %.4f' % np.mean(scores['test_score']))\n",
    "    return\n"
   ]
  },
  {
   "cell_type": "markdown",
   "id": "513baa5e",
   "metadata": {},
   "source": [
    "## Under Sampling"
   ]
  },
  {
   "cell_type": "markdown",
   "id": "fa307c6b",
   "metadata": {},
   "source": [
    "### 1)데이터셋 준비 및 확인"
   ]
  },
  {
   "cell_type": "code",
   "execution_count": 32,
   "id": "8be22c28",
   "metadata": {},
   "outputs": [
    {
     "name": "stdout",
     "output_type": "stream",
     "text": [
      "(10000, 20)\n",
      "Class=0, n=9000 (90.000%)\n",
      "Class=1, n=1000 (10.000%)\n"
     ]
    },
    {
     "data": {
      "image/png": "[encoded data removed]",
      "text/plain": [
       "<Figure size 360x216 with 1 Axes>"
      ]
     },
     "metadata": {},
     "output_type": "display_data"
    },
    {
     "name": "stdout",
     "output_type": "stream",
     "text": [
      "언더 샘플링_원본 데이터 결과 : 3-Fold CV f1 score: 0.9894\n"
     ]
    }
   ],
   "source": [
    "x_data, y_class = make_classification(n_classes=2, class_sep=2, n_samples = 10000,\n",
    "                                      n_features=20, weights=[0.9, 0.1], flip_y=0,\n",
    "                                      n_clusters_per_class=1, random_state=10)\n",
    "\n",
    "print(x_data.shape)\n",
    "y_class.shape\n",
    "\n",
    "plt.figure(figsize=(5,3))\n",
    "count_and_plot(y_class)\n",
    "\n",
    "RandomForest_Result(x_data, y_class,\"언더 샘플링_원본 데이터 결과\")"
   ]
  },
  {
   "cell_type": "markdown",
   "id": "027af735",
   "metadata": {},
   "source": [
    "### 2)Random Under Sampling"
   ]
  },
  {
   "cell_type": "code",
   "execution_count": 33,
   "id": "c56d5692",
   "metadata": {},
   "outputs": [
    {
     "name": "stdout",
     "output_type": "stream",
     "text": [
      "Class=0, n=1000 (50.000%)\n",
      "Class=1, n=1000 (50.000%)\n"
     ]
    },
    {
     "data": {
      "image/png": "[encoded data removed]",
      "text/plain": [
       "<Figure size 360x216 with 1 Axes>"
      ]
     },
     "metadata": {},
     "output_type": "display_data"
    },
    {
     "name": "stdout",
     "output_type": "stream",
     "text": [
      "언더 샘플링_랜덤언더 샘플링 데이터 결과 : 3-Fold CV f1 score: 0.9938\n"
     ]
    }
   ],
   "source": [
    "under_random = RandomUnderSampler(sampling_strategy='majority')\n",
    "\n",
    "x_random, y_random = under_random.fit_resample(x_data,y_class)\n",
    "\n",
    "plt.figure(figsize=(5,3))\n",
    "count_and_plot(y_random)\n",
    "\n",
    "RandomForest_Result(x_random, y_random,\"언더 샘플링_랜덤언더 샘플링 데이터 결과\")"
   ]
  },
  {
   "cell_type": "code",
   "execution_count": 23,
   "id": "c9516c62",
   "metadata": {},
   "outputs": [
    {
     "name": "stdout",
     "output_type": "stream",
     "text": [
      "Class=0, n=2000 (66.667%)\n",
      "Class=1, n=1000 (33.333%)\n"
     ]
    },
    {
     "data": {
      "image/png": "[encoded data removed]",
      "text/plain": [
       "<Figure size 360x216 with 1 Axes>"
      ]
     },
     "metadata": {},
     "output_type": "display_data"
    },
    {
     "name": "stdout",
     "output_type": "stream",
     "text": [
      "언더 샘플링_랜덤언더 샘플링_비율: 0.5_데이터 결과 : 3-Fold CV f1 score: 0.9938\n"
     ]
    }
   ],
   "source": [
    "under_random_05 = RandomUnderSampler(sampling_strategy=0.5)\n",
    "\n",
    "x_random_05, y_random_05 = under_random_05.fit_resample(x_data,y_class)\n",
    "\n",
    "plt.figure(figsize=(5,3))\n",
    "count_and_plot(y_random_05)\n",
    "RandomForest_Result(x_random_05, y_random_05,\"언더 샘플링_랜덤언더 샘플링_비율: 0.5_데이터 결과\")"
   ]
  },
  {
   "cell_type": "markdown",
   "id": "905e6651",
   "metadata": {},
   "source": [
    "### 3)TomekLinks"
   ]
  },
  {
   "cell_type": "code",
   "execution_count": 28,
   "id": "6d1ddb50",
   "metadata": {},
   "outputs": [
    {
     "name": "stdout",
     "output_type": "stream",
     "text": [
      "Class=0, n=8993 (89.993%)\n",
      "Class=1, n=1000 (10.007%)\n"
     ]
    },
    {
     "data": {
      "image/png": "[encoded data removed]",
      "text/plain": [
       "<Figure size 360x216 with 1 Axes>"
      ]
     },
     "metadata": {},
     "output_type": "display_data"
    },
    {
     "name": "stdout",
     "output_type": "stream",
     "text": [
      "언더 샘플링_토멕링크_데이터 결과 : 3-Fold CV f1 score: 0.9894\n"
     ]
    }
   ],
   "source": [
    "tl = TomekLinks()\n",
    "x_tl, y_tl = tl.fit_resample(x_data,y_class)\n",
    "\n",
    "plt.figure(figsize=(5,3))\n",
    "count_and_plot(y_tl)\n",
    "\n",
    "RandomForest_Result(x_tl, y_tl, '언더 샘플링_토멕링크_데이터 결과')"
   ]
  },
  {
   "cell_type": "markdown",
   "id": "a4818b68",
   "metadata": {},
   "source": [
    "### 4)oss"
   ]
  },
  {
   "cell_type": "code",
   "execution_count": 30,
   "id": "c3544147",
   "metadata": {},
   "outputs": [
    {
     "name": "stdout",
     "output_type": "stream",
     "text": [
      "Class=0, n=7666 (88.461%)\n",
      "Class=1, n=1000 (11.539%)\n"
     ]
    },
    {
     "data": {
      "image/png": "[encoded data removed]",
      "text/plain": [
       "<Figure size 360x216 with 1 Axes>"
      ]
     },
     "metadata": {},
     "output_type": "display_data"
    },
    {
     "name": "stdout",
     "output_type": "stream",
     "text": [
      "언더 샘플링_OSS_데이터 결과 : 3-Fold CV f1 score: 0.9886\n"
     ]
    }
   ],
   "source": [
    "oss = OneSidedSelection(random_state=42)\n",
    "x_oss, y_oss = oss.fit_resample(x_data, y_class)\n",
    "plt.figure(figsize=(5,3))\n",
    "count_and_plot(y_oss)\n",
    "\n",
    "RandomForest_Result(x_oss, y_oss , '언더 샘플링_OSS_데이터 결과')"
   ]
  },
  {
   "cell_type": "markdown",
   "id": "2e18b5f0",
   "metadata": {},
   "source": [
    "## Oversampling"
   ]
  },
  {
   "cell_type": "markdown",
   "id": "9ef0df36",
   "metadata": {},
   "source": [
    "### 1)데이터셋 준비 및 확인"
   ]
  },
  {
   "cell_type": "code",
   "execution_count": 35,
   "id": "5e86ddd5",
   "metadata": {},
   "outputs": [
    {
     "name": "stdout",
     "output_type": "stream",
     "text": [
      "(10000, 20)\n",
      "Class=0, n=9000 (90.000%)\n",
      "Class=1, n=1000 (10.000%)\n"
     ]
    },
    {
     "data": {
      "image/png": "[encoded data removed]",
      "text/plain": [
       "<Figure size 360x216 with 1 Axes>"
      ]
     },
     "metadata": {},
     "output_type": "display_data"
    },
    {
     "name": "stdout",
     "output_type": "stream",
     "text": [
      "오버 샘플링_원본 데이터 결과 : 3-Fold CV f1 score: 0.9884\n"
     ]
    }
   ],
   "source": [
    "x_data, y_class = make_classification(n_classes=2, class_sep=2, n_samples = 10000,\n",
    "                                      n_features=20, weights=[0.9, 0.1], flip_y=0,\n",
    "                                      n_clusters_per_class=1, random_state=10)\n",
    "\n",
    "print(x_data.shape)\n",
    "y_class.shape\n",
    "\n",
    "plt.figure(figsize=(5,3))\n",
    "count_and_plot(y_class)\n",
    "\n",
    "RandomForest_Result(x_data, y_class,\"오버 샘플링_원본 데이터 결과\")"
   ]
  },
  {
   "cell_type": "markdown",
   "id": "8f57b565",
   "metadata": {},
   "source": [
    "### 2)Random over sampling"
   ]
  },
  {
   "cell_type": "code",
   "execution_count": 41,
   "id": "2346f565",
   "metadata": {},
   "outputs": [
    {
     "name": "stdout",
     "output_type": "stream",
     "text": [
      "Class=0, n=9000 (50.000%)\n",
      "Class=1, n=9000 (50.000%)\n"
     ]
    },
    {
     "data": {
      "image/png": "[encoded data removed]",
      "text/plain": [
       "<Figure size 360x216 with 1 Axes>"
      ]
     },
     "metadata": {},
     "output_type": "display_data"
    },
    {
     "name": "stdout",
     "output_type": "stream",
     "text": [
      "오버 샘플링_랜덤오버샘플링 결과 : 3-Fold CV f1 score: 0.9993\n"
     ]
    }
   ],
   "source": [
    "ros = RandomOverSampler(random_state=42)\n",
    "x_ros, y_ros = ros.fit_resample(x_data, y_class)\n",
    "\n",
    "plt.figure(figsize=(5,3))\n",
    "count_and_plot(y_ros)\n",
    "\n",
    "RandomForest_Result(x_ros, y_ros,\"오버 샘플링_랜덤오버샘플링 결과\")"
   ]
  },
  {
   "cell_type": "markdown",
   "id": "b58b4aae",
   "metadata": {},
   "source": [
    "### 3)SMOTE"
   ]
  },
  {
   "cell_type": "code",
   "execution_count": 40,
   "id": "dcf9b6c6",
   "metadata": {},
   "outputs": [
    {
     "name": "stdout",
     "output_type": "stream",
     "text": [
      "Class=0, n=9000 (50.000%)\n",
      "Class=1, n=9000 (50.000%)\n"
     ]
    },
    {
     "data": {
      "image/png": "[encoded data removed]",
      "text/plain": [
       "<Figure size 360x216 with 1 Axes>"
      ]
     },
     "metadata": {},
     "output_type": "display_data"
    },
    {
     "name": "stdout",
     "output_type": "stream",
     "text": [
      "오버 샘플링_SMOTE 결과 : 3-Fold CV f1 score: 0.9984\n"
     ]
    }
   ],
   "source": [
    "smote = SMOTE()\n",
    "x_sm, y_sm = smote.fit_resample(x_data, y_class)\n",
    "\n",
    "plt.figure(figsize=(5,3))\n",
    "count_and_plot(y_sm)\n",
    "RandomForest_Result(x_sm, y_sm,\"오버 샘플링_SMOTE 결과\")"
   ]
  },
  {
   "cell_type": "markdown",
   "id": "760f672f",
   "metadata": {},
   "source": [
    "### 4)ADASYN"
   ]
  },
  {
   "cell_type": "code",
   "execution_count": 42,
   "id": "778f174c",
   "metadata": {},
   "outputs": [
    {
     "name": "stdout",
     "output_type": "stream",
     "text": [
      "Class=0, n=9000 (49.972%)\n",
      "Class=1, n=9010 (50.028%)\n"
     ]
    },
    {
     "data": {
      "image/png": "[encoded data removed]",
      "text/plain": [
       "<Figure size 360x216 with 1 Axes>"
      ]
     },
     "metadata": {},
     "output_type": "display_data"
    },
    {
     "name": "stdout",
     "output_type": "stream",
     "text": [
      "오버 샘플링_ADASYN 결과 : 3-Fold CV f1 score: 0.9989\n"
     ]
    }
   ],
   "source": [
    "ada = ADASYN(random_state=42)\n",
    "x_ada, y_ada = ada.fit_resample(x_data, y_class)\n",
    "\n",
    "\n",
    "plt.figure(figsize=(5,3))\n",
    "count_and_plot(y_ada)\n",
    "RandomForest_Result(x_ada, y_ada,\"오버 샘플링_ADASYN 결과\")"
   ]
  },
  {
   "cell_type": "markdown",
   "id": "e0276f01",
   "metadata": {},
   "source": [
    "### 5)Boderline Smote"
   ]
  },
  {
   "cell_type": "code",
   "execution_count": 46,
   "id": "eb001e94",
   "metadata": {},
   "outputs": [
    {
     "name": "stdout",
     "output_type": "stream",
     "text": [
      "Class=0, n=9000 (50.000%)\n",
      "Class=1, n=9000 (50.000%)\n"
     ]
    },
    {
     "data": {
      "image/png": "[encoded data removed]",
      "text/plain": [
       "<Figure size 360x216 with 1 Axes>"
      ]
     },
     "metadata": {},
     "output_type": "display_data"
    },
    {
     "name": "stdout",
     "output_type": "stream",
     "text": [
      "오버 샘플링_Borderline SMOTE 결과 : 3-Fold CV f1 score: 0.9987\n"
     ]
    }
   ],
   "source": [
    "bor_sm = BorderlineSMOTE(random_state=42)\n",
    "x_bor_sm, y_bor_sm = bor_sm.fit_resample(x_data,y_class)\n",
    "\n",
    "plt.figure(figsize=(5,3))\n",
    "count_and_plot(y_bor_sm)\n",
    "RandomForest_Result(x_bor_sm, y_bor_sm,\"오버 샘플링_Borderline SMOTE 결과\")"
   ]
  },
  {
   "cell_type": "markdown",
   "id": "1dbb09d9",
   "metadata": {},
   "source": [
    "# 실습8"
   ]
  },
  {
   "cell_type": "markdown",
   "id": "33385af1",
   "metadata": {},
   "source": [
    "## 라이브러리 IMPORT"
   ]
  },
  {
   "cell_type": "code",
   "execution_count": 58,
   "id": "7e17ee19",
   "metadata": {},
   "outputs": [],
   "source": [
    "import pandas as pd\n",
    "from sklearn.preprocessing import StandardScaler\n",
    "from sklearn.decomposition import PCA\n",
    "from sklearn.manifold import TSNE\n",
    "\n",
    "import numpy as np\n",
    "import scipy.stats as stats\n",
    "import matplotlib.pyplot as plt\n",
    "%matplotlib inline\n",
    "import seaborn as sns\n",
    "\n",
    "\n",
    "import os \n",
    "if os.name == 'nt' :  # Windows OS \n",
    "    font_family = \"Malgun Gothic\"\n",
    "else: # MAC OS \n",
    "    font_family = \"AppleGothic\"\n",
    "\n",
    "sns.set(font=font_family, rc ={\"axes.unicode_minus\" : False})\n"
   ]
  },
  {
   "cell_type": "markdown",
   "id": "5ae77551",
   "metadata": {},
   "source": [
    "## 데이터로드"
   ]
  },
  {
   "cell_type": "code",
   "execution_count": 62,
   "id": "b5940a32",
   "metadata": {},
   "outputs": [
    {
     "data": {
      "text/plain": [
       "['sepal length (cm)',\n",
       " 'sepal width (cm)',\n",
       " 'petal length (cm)',\n",
       " 'petal width (cm)']"
      ]
     },
     "execution_count": 62,
     "metadata": {},
     "output_type": "execute_result"
    }
   ],
   "source": [
    "from sklearn.datasets import load_iris\n",
    "iris = load_iris()\n",
    "\n",
    "# print(iris.DESCR)\n",
    "\n",
    "iris.feature_names"
   ]
  },
  {
   "cell_type": "markdown",
   "id": "3a73608c",
   "metadata": {},
   "source": [
    "## 데이터프레임 변환"
   ]
  },
  {
   "cell_type": "code",
   "execution_count": 78,
   "id": "39cb8dd1",
   "metadata": {},
   "outputs": [
    {
     "data": {
      "text/html": [
       "<div>\n",
       "<style scoped>\n",
       "    .dataframe tbody tr th:only-of-type {\n",
       "        vertical-align: middle;\n",
       "    }\n",
       "\n",
       "    .dataframe tbody tr th {\n",
       "        vertical-align: top;\n",
       "    }\n",
       "\n",
       "    .dataframe thead th {\n",
       "        text-align: right;\n",
       "    }\n",
       "</style>\n",
       "<table border=\"1\" class=\"dataframe\">\n",
       "  <thead>\n",
       "    <tr style=\"text-align: right;\">\n",
       "      <th></th>\n",
       "      <th>sepal length (cm)</th>\n",
       "      <th>sepal width (cm)</th>\n",
       "      <th>petal length (cm)</th>\n",
       "      <th>petal width (cm)</th>\n",
       "      <th>target</th>\n",
       "    </tr>\n",
       "  </thead>\n",
       "  <tbody>\n",
       "    <tr>\n",
       "      <th>0</th>\n",
       "      <td>5.1</td>\n",
       "      <td>3.5</td>\n",
       "      <td>1.4</td>\n",
       "      <td>0.2</td>\n",
       "      <td>0</td>\n",
       "    </tr>\n",
       "    <tr>\n",
       "      <th>1</th>\n",
       "      <td>4.9</td>\n",
       "      <td>3.0</td>\n",
       "      <td>1.4</td>\n",
       "      <td>0.2</td>\n",
       "      <td>0</td>\n",
       "    </tr>\n",
       "    <tr>\n",
       "      <th>2</th>\n",
       "      <td>4.7</td>\n",
       "      <td>3.2</td>\n",
       "      <td>1.3</td>\n",
       "      <td>0.2</td>\n",
       "      <td>0</td>\n",
       "    </tr>\n",
       "    <tr>\n",
       "      <th>3</th>\n",
       "      <td>4.6</td>\n",
       "      <td>3.1</td>\n",
       "      <td>1.5</td>\n",
       "      <td>0.2</td>\n",
       "      <td>0</td>\n",
       "    </tr>\n",
       "    <tr>\n",
       "      <th>4</th>\n",
       "      <td>5.0</td>\n",
       "      <td>3.6</td>\n",
       "      <td>1.4</td>\n",
       "      <td>0.2</td>\n",
       "      <td>0</td>\n",
       "    </tr>\n",
       "  </tbody>\n",
       "</table>\n",
       "</div>"
      ],
      "text/plain": [
       "   sepal length (cm)  sepal width (cm)  petal length (cm)  petal width (cm)  \\\n",
       "0                5.1               3.5                1.4               0.2   \n",
       "1                4.9               3.0                1.4               0.2   \n",
       "2                4.7               3.2                1.3               0.2   \n",
       "3                4.6               3.1                1.5               0.2   \n",
       "4                5.0               3.6                1.4               0.2   \n",
       "\n",
       "   target  \n",
       "0       0  \n",
       "1       0  \n",
       "2       0  \n",
       "3       0  \n",
       "4       0  "
      ]
     },
     "execution_count": 78,
     "metadata": {},
     "output_type": "execute_result"
    }
   ],
   "source": [
    "df = pd.DataFrame(iris.data, columns = iris.feature_names)\n",
    "sy = pd.Series(iris.target, dtype = 'category')\n",
    "sy = sy.cat.rename_categories(iris.target_names)\n",
    "df['target'] = sy\n",
    "\n",
    "df['target'] = iris.target\n",
    "cols = iris.feature_names\n",
    "\n",
    "df.head()"
   ]
  },
  {
   "cell_type": "markdown",
   "id": "083976f9",
   "metadata": {},
   "source": [
    "## iris 데이터 시각화"
   ]
  },
  {
   "cell_type": "code",
   "execution_count": 82,
   "id": "4df9c4fc",
   "metadata": {},
   "outputs": [
    {
     "data": {
      "image/png": "[encoded data removed]",
      "text/plain": [
       "<Figure size 432x288 with 1 Axes>"
      ]
     },
     "metadata": {},
     "output_type": "display_data"
    }
   ],
   "source": [
    "markers = ['^','s','o']\n",
    "\n",
    "for i, marker in enumerate(markers):\n",
    "    x_axis_data = df[df['target'] == i]['sepal length (cm)']\n",
    "   \n",
    "    y_axis_data = df[df['target'] == i]['sepal width (cm)']   \n",
    "    plt.scatter(x_axis_data,y_axis_data, marker=marker, label=iris.target_names[i])\n",
    "    \n",
    "plt.legend()\n",
    "plt.xlabel('sepal length')\n",
    "plt.ylabel('sepal width')\n",
    "plt.show()"
   ]
  },
  {
   "cell_type": "markdown",
   "id": "76ba2798",
   "metadata": {},
   "source": [
    "## 주성분 분석(PCA)"
   ]
  },
  {
   "cell_type": "code",
   "execution_count": 85,
   "id": "1f90fbdf",
   "metadata": {},
   "outputs": [
    {
     "name": "stdout",
     "output_type": "stream",
     "text": [
      "(150, 2)\n"
     ]
    }
   ],
   "source": [
    "iris_scaled = StandardScaler().fit_transform(df.iloc[:,:-1])\n",
    "pca = PCA(n_components=2)\n",
    "\n",
    "pca.fit(iris_scaled)\n",
    "iris_pca = pca.transform(iris_scaled)\n",
    "print(iris_pca.shape)"
   ]
  },
  {
   "cell_type": "code",
   "execution_count": 91,
   "id": "12cb5426",
   "metadata": {},
   "outputs": [
    {
     "data": {
      "text/html": [
       "<div>\n",
       "<style scoped>\n",
       "    .dataframe tbody tr th:only-of-type {\n",
       "        vertical-align: middle;\n",
       "    }\n",
       "\n",
       "    .dataframe tbody tr th {\n",
       "        vertical-align: top;\n",
       "    }\n",
       "\n",
       "    .dataframe thead th {\n",
       "        text-align: right;\n",
       "    }\n",
       "</style>\n",
       "<table border=\"1\" class=\"dataframe\">\n",
       "  <thead>\n",
       "    <tr style=\"text-align: right;\">\n",
       "      <th></th>\n",
       "      <th>pca_component_1</th>\n",
       "      <th>pca_component_2</th>\n",
       "    </tr>\n",
       "  </thead>\n",
       "  <tbody>\n",
       "    <tr>\n",
       "      <th>0</th>\n",
       "      <td>-2.264703</td>\n",
       "      <td>0.480027</td>\n",
       "    </tr>\n",
       "    <tr>\n",
       "      <th>1</th>\n",
       "      <td>-2.080961</td>\n",
       "      <td>-0.674134</td>\n",
       "    </tr>\n",
       "    <tr>\n",
       "      <th>2</th>\n",
       "      <td>-2.364229</td>\n",
       "      <td>-0.341908</td>\n",
       "    </tr>\n",
       "    <tr>\n",
       "      <th>3</th>\n",
       "      <td>-2.299384</td>\n",
       "      <td>-0.597395</td>\n",
       "    </tr>\n",
       "    <tr>\n",
       "      <th>4</th>\n",
       "      <td>-2.389842</td>\n",
       "      <td>0.646835</td>\n",
       "    </tr>\n",
       "  </tbody>\n",
       "</table>\n",
       "</div>"
      ],
      "text/plain": [
       "   pca_component_1  pca_component_2\n",
       "0        -2.264703         0.480027\n",
       "1        -2.080961        -0.674134\n",
       "2        -2.364229        -0.341908\n",
       "3        -2.299384        -0.597395\n",
       "4        -2.389842         0.646835"
      ]
     },
     "execution_count": 91,
     "metadata": {},
     "output_type": "execute_result"
    }
   ],
   "source": [
    "pca_colunms= ['pca_component_1', 'pca_component_2']\n",
    "irisDF_pca = pd.DataFrame(iris_pca,columns= pca_colunms)\n",
    "irisDF_pca.head()"
   ]
  },
  {
   "cell_type": "code",
   "execution_count": 95,
   "id": "e242050d",
   "metadata": {},
   "outputs": [
    {
     "name": "stdout",
     "output_type": "stream",
     "text": [
      "원본 데이터 교차 검증 정확도 :  [0.98 0.94 0.96]\n",
      "원본 데이터 교차 검증 평균 정확도 :  0.96\n"
     ]
    }
   ],
   "source": [
    "from sklearn.ensemble import RandomForestClassifier\n",
    "from sklearn.model_selection import cross_val_score\n",
    "\n",
    "rcf = RandomForestClassifier(random_state=156)\n",
    "scores = cross_val_score(rcf, iris.data, iris.target, scoring='accuracy', cv=3)\n",
    "print('원본 데이터 교차 검증 정확도 : ', scores)\n",
    "print('원본 데이터 교차 검증 평균 정확도 : ', np.mean(scores))\n"
   ]
  },
  {
   "cell_type": "code",
   "execution_count": 96,
   "id": "5481ff7a",
   "metadata": {},
   "outputs": [
    {
     "name": "stdout",
     "output_type": "stream",
     "text": [
      "PCA 데이터 교차 검증 정확도 :  [0.88 0.88 0.88]\n",
      "PCA 데이터 교차 검증 평균 정확도 :  0.88\n"
     ]
    }
   ],
   "source": [
    "pca_X = irisDF_pca[['pca_component_1', 'pca_component_2']]\n",
    "scores_pca = cross_val_score(rcf, pca_X, iris.target, scoring='accuracy', cv=3)\n",
    "print('PCA 데이터 교차 검증 정확도 : ', scores_pca)\n",
    "print('PCA 데이터 교차 검증 평균 정확도 : ', np.mean(scores_pca))\n"
   ]
  },
  {
   "cell_type": "markdown",
   "id": "5f01d64e",
   "metadata": {},
   "source": [
    "## t-SNE"
   ]
  },
  {
   "cell_type": "code",
   "execution_count": 97,
   "id": "661d8cfc",
   "metadata": {},
   "outputs": [
    {
     "name": "stdout",
     "output_type": "stream",
     "text": [
      "Index(['sepal length (cm)', 'sepal width (cm)', 'petal length (cm)',\n",
      "       'petal width (cm)', 'target'],\n",
      "      dtype='object')\n"
     ]
    },
    {
     "data": {
      "text/html": [
       "<div>\n",
       "<style scoped>\n",
       "    .dataframe tbody tr th:only-of-type {\n",
       "        vertical-align: middle;\n",
       "    }\n",
       "\n",
       "    .dataframe tbody tr th {\n",
       "        vertical-align: top;\n",
       "    }\n",
       "\n",
       "    .dataframe thead th {\n",
       "        text-align: right;\n",
       "    }\n",
       "</style>\n",
       "<table border=\"1\" class=\"dataframe\">\n",
       "  <thead>\n",
       "    <tr style=\"text-align: right;\">\n",
       "      <th></th>\n",
       "      <th>sepal length (cm)</th>\n",
       "      <th>sepal width (cm)</th>\n",
       "      <th>petal length (cm)</th>\n",
       "      <th>petal width (cm)</th>\n",
       "      <th>target</th>\n",
       "    </tr>\n",
       "  </thead>\n",
       "  <tbody>\n",
       "    <tr>\n",
       "      <th>0</th>\n",
       "      <td>5.1</td>\n",
       "      <td>3.5</td>\n",
       "      <td>1.4</td>\n",
       "      <td>0.2</td>\n",
       "      <td>0</td>\n",
       "    </tr>\n",
       "    <tr>\n",
       "      <th>1</th>\n",
       "      <td>4.9</td>\n",
       "      <td>3.0</td>\n",
       "      <td>1.4</td>\n",
       "      <td>0.2</td>\n",
       "      <td>0</td>\n",
       "    </tr>\n",
       "    <tr>\n",
       "      <th>2</th>\n",
       "      <td>4.7</td>\n",
       "      <td>3.2</td>\n",
       "      <td>1.3</td>\n",
       "      <td>0.2</td>\n",
       "      <td>0</td>\n",
       "    </tr>\n",
       "    <tr>\n",
       "      <th>3</th>\n",
       "      <td>4.6</td>\n",
       "      <td>3.1</td>\n",
       "      <td>1.5</td>\n",
       "      <td>0.2</td>\n",
       "      <td>0</td>\n",
       "    </tr>\n",
       "    <tr>\n",
       "      <th>4</th>\n",
       "      <td>5.0</td>\n",
       "      <td>3.6</td>\n",
       "      <td>1.4</td>\n",
       "      <td>0.2</td>\n",
       "      <td>0</td>\n",
       "    </tr>\n",
       "  </tbody>\n",
       "</table>\n",
       "</div>"
      ],
      "text/plain": [
       "   sepal length (cm)  sepal width (cm)  petal length (cm)  petal width (cm)  \\\n",
       "0                5.1               3.5                1.4               0.2   \n",
       "1                4.9               3.0                1.4               0.2   \n",
       "2                4.7               3.2                1.3               0.2   \n",
       "3                4.6               3.1                1.5               0.2   \n",
       "4                5.0               3.6                1.4               0.2   \n",
       "\n",
       "   target  \n",
       "0       0  \n",
       "1       0  \n",
       "2       0  \n",
       "3       0  \n",
       "4       0  "
      ]
     },
     "execution_count": 97,
     "metadata": {},
     "output_type": "execute_result"
    }
   ],
   "source": [
    "print(df.columns)\n",
    "df.head()"
   ]
  },
  {
   "cell_type": "code",
   "execution_count": 100,
   "id": "dffe4aac",
   "metadata": {},
   "outputs": [
    {
     "data": {
      "text/html": [
       "<div>\n",
       "<style scoped>\n",
       "    .dataframe tbody tr th:only-of-type {\n",
       "        vertical-align: middle;\n",
       "    }\n",
       "\n",
       "    .dataframe tbody tr th {\n",
       "        vertical-align: top;\n",
       "    }\n",
       "\n",
       "    .dataframe thead th {\n",
       "        text-align: right;\n",
       "    }\n",
       "</style>\n",
       "<table border=\"1\" class=\"dataframe\">\n",
       "  <thead>\n",
       "    <tr style=\"text-align: right;\">\n",
       "      <th></th>\n",
       "      <th>component 0</th>\n",
       "      <th>component 1</th>\n",
       "    </tr>\n",
       "  </thead>\n",
       "  <tbody>\n",
       "    <tr>\n",
       "      <th>0</th>\n",
       "      <td>11.780503</td>\n",
       "      <td>21.414089</td>\n",
       "    </tr>\n",
       "    <tr>\n",
       "      <th>1</th>\n",
       "      <td>12.570706</td>\n",
       "      <td>18.684092</td>\n",
       "    </tr>\n",
       "    <tr>\n",
       "      <th>2</th>\n",
       "      <td>11.394628</td>\n",
       "      <td>18.986465</td>\n",
       "    </tr>\n",
       "    <tr>\n",
       "      <th>3</th>\n",
       "      <td>11.739829</td>\n",
       "      <td>18.477972</td>\n",
       "    </tr>\n",
       "    <tr>\n",
       "      <th>4</th>\n",
       "      <td>11.369051</td>\n",
       "      <td>21.477808</td>\n",
       "    </tr>\n",
       "  </tbody>\n",
       "</table>\n",
       "</div>"
      ],
      "text/plain": [
       "   component 0  component 1\n",
       "0    11.780503    21.414089\n",
       "1    12.570706    18.684092\n",
       "2    11.394628    18.986465\n",
       "3    11.739829    18.477972\n",
       "4    11.369051    21.477808"
      ]
     },
     "execution_count": 100,
     "metadata": {},
     "output_type": "execute_result"
    }
   ],
   "source": [
    "train_df = df[['sepal length (cm)', 'sepal width (cm)', 'petal length (cm)', 'petal width (cm)']]\n",
    "tsne_np = TSNE(n_components=2).fit_transform(train_df)\n",
    "\n",
    "tsne_df = pd.DataFrame(tsne_np, columns=['component 0', 'component 1'])\n",
    "tsne_df.head()"
   ]
  },
  {
   "cell_type": "code",
   "execution_count": 118,
   "id": "28ed3fd9",
   "metadata": {},
   "outputs": [
    {
     "data": {
      "image/png": "[encoded data removed]",
      "text/plain": [
       "<Figure size 432x288 with 1 Axes>"
      ]
     },
     "metadata": {},
     "output_type": "display_data"
    }
   ],
   "source": [
    "tsne_df['target'] = df['target']\n",
    "\n",
    "tsne_df_0 = tsne_df[tsne_df['target'] == 0]\n",
    "tsne_df_1 = tsne_df[tsne_df['target'] == 1]\n",
    "tsne_df_2 = tsne_df[tsne_df['target'] == 2]\n",
    "\n",
    "plt.scatter(tsne_df_0['component 0'],tsne_df_0['component 1'], color = 'b', label = 'setosa')\n",
    "plt.scatter(tsne_df_1['component 0'],tsne_df_1['component 1'], color = 'r', label = 'versicolor')\n",
    "plt.scatter(tsne_df_2['component 0'],tsne_df_2['component 1'], color = 'g', label = 'virginica')\n",
    "\n",
    "plt.xlabel('component 0')\n",
    "plt.ylabel('component 1')\n",
    "plt.legend()\n",
    "plt.show()"
   ]
  },
  {
   "cell_type": "code",
   "execution_count": null,
   "id": "73061b3b",
   "metadata": {},
   "outputs": [],
   "source": []
  }
 ],
 "metadata": {
  "kernelspec": {
   "display_name": "Python 3 (ipykernel)",
   "language": "python",
   "name": "python3"
  },
  "language_info": {
   "codemirror_mode": {
    "name": "ipython",
    "version": 3
   },
   "file_extension": ".py",
   "mimetype": "text/x-python",
   "name": "python",
   "nbconvert_exporter": "python",
   "pygments_lexer": "ipython3",
   "version": "3.9.12"
  },
  "toc": {
   "base_numbering": 1,
   "nav_menu": {},
   "number_sections": true,
   "sideBar": true,
   "skip_h1_title": false,
   "title_cell": "Table of Contents",
   "title_sidebar": "Contents",
   "toc_cell": false,
   "toc_position": {
    "height": "calc(100% - 180px)",
    "left": "10px",
    "top": "150px",
    "width": "303.837px"
   },
   "toc_section_display": true,
   "toc_window_display": true
  }
 },
 "nbformat": 4,
 "nbformat_minor": 5
}
