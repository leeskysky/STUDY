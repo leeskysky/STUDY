{
 "cells": [
  {
   "cell_type": "markdown",
   "id": "db0586ce",
   "metadata": {},
   "source": [
    "#  불러오기 "
   ]
  },
  {
   "cell_type": "code",
   "execution_count": 2,
   "id": "56c054d3",
   "metadata": {},
   "outputs": [],
   "source": [
    "import pandas as pd"
   ]
  },
  {
   "cell_type": "code",
   "execution_count": 25,
   "id": "0cf8c217",
   "metadata": {},
   "outputs": [],
   "source": [
    "train = pd.read_csv('train.csv')\n",
    "test = pd.read_csv('test.csv')"
   ]
  },
  {
   "cell_type": "code",
   "execution_count": 67,
   "id": "53abc631",
   "metadata": {},
   "outputs": [
    {
     "data": {
      "text/html": [
       "<div>\n",
       "<style scoped>\n",
       "    .dataframe tbody tr th:only-of-type {\n",
       "        vertical-align: middle;\n",
       "    }\n",
       "\n",
       "    .dataframe tbody tr th {\n",
       "        vertical-align: top;\n",
       "    }\n",
       "\n",
       "    .dataframe thead th {\n",
       "        text-align: right;\n",
       "    }\n",
       "</style>\n",
       "<table border=\"1\" class=\"dataframe\">\n",
       "  <thead>\n",
       "    <tr style=\"text-align: right;\">\n",
       "      <th></th>\n",
       "      <th>id</th>\n",
       "      <th>hour</th>\n",
       "      <th>hour_bef_temperature</th>\n",
       "      <th>hour_bef_precipitation</th>\n",
       "      <th>hour_bef_windspeed</th>\n",
       "      <th>hour_bef_humidity</th>\n",
       "      <th>hour_bef_visibility</th>\n",
       "      <th>hour_bef_ozone</th>\n",
       "      <th>hour_bef_pm10</th>\n",
       "      <th>hour_bef_pm2.5</th>\n",
       "    </tr>\n",
       "  </thead>\n",
       "  <tbody>\n",
       "    <tr>\n",
       "      <th>0</th>\n",
       "      <td>0</td>\n",
       "      <td>7</td>\n",
       "      <td>20.7</td>\n",
       "      <td>0.0</td>\n",
       "      <td>1.3</td>\n",
       "      <td>62.0</td>\n",
       "      <td>954.0</td>\n",
       "      <td>0.041</td>\n",
       "      <td>44.0</td>\n",
       "      <td>27.0</td>\n",
       "    </tr>\n",
       "    <tr>\n",
       "      <th>1</th>\n",
       "      <td>1</td>\n",
       "      <td>17</td>\n",
       "      <td>30.0</td>\n",
       "      <td>0.0</td>\n",
       "      <td>5.4</td>\n",
       "      <td>33.0</td>\n",
       "      <td>1590.0</td>\n",
       "      <td>0.061</td>\n",
       "      <td>49.0</td>\n",
       "      <td>36.0</td>\n",
       "    </tr>\n",
       "    <tr>\n",
       "      <th>2</th>\n",
       "      <td>2</td>\n",
       "      <td>13</td>\n",
       "      <td>19.0</td>\n",
       "      <td>1.0</td>\n",
       "      <td>2.1</td>\n",
       "      <td>95.0</td>\n",
       "      <td>193.0</td>\n",
       "      <td>0.020</td>\n",
       "      <td>36.0</td>\n",
       "      <td>28.0</td>\n",
       "    </tr>\n",
       "    <tr>\n",
       "      <th>3</th>\n",
       "      <td>4</td>\n",
       "      <td>6</td>\n",
       "      <td>22.5</td>\n",
       "      <td>0.0</td>\n",
       "      <td>2.5</td>\n",
       "      <td>60.0</td>\n",
       "      <td>1185.0</td>\n",
       "      <td>0.027</td>\n",
       "      <td>52.0</td>\n",
       "      <td>38.0</td>\n",
       "    </tr>\n",
       "    <tr>\n",
       "      <th>4</th>\n",
       "      <td>5</td>\n",
       "      <td>22</td>\n",
       "      <td>14.6</td>\n",
       "      <td>1.0</td>\n",
       "      <td>3.4</td>\n",
       "      <td>93.0</td>\n",
       "      <td>218.0</td>\n",
       "      <td>0.041</td>\n",
       "      <td>18.0</td>\n",
       "      <td>15.0</td>\n",
       "    </tr>\n",
       "  </tbody>\n",
       "</table>\n",
       "</div>"
      ],
      "text/plain": [
       "   id  hour  hour_bef_temperature  hour_bef_precipitation  hour_bef_windspeed  \\\n",
       "0   0     7                  20.7                     0.0                 1.3   \n",
       "1   1    17                  30.0                     0.0                 5.4   \n",
       "2   2    13                  19.0                     1.0                 2.1   \n",
       "3   4     6                  22.5                     0.0                 2.5   \n",
       "4   5    22                  14.6                     1.0                 3.4   \n",
       "\n",
       "   hour_bef_humidity  hour_bef_visibility  hour_bef_ozone  hour_bef_pm10  \\\n",
       "0               62.0                954.0           0.041           44.0   \n",
       "1               33.0               1590.0           0.061           49.0   \n",
       "2               95.0                193.0           0.020           36.0   \n",
       "3               60.0               1185.0           0.027           52.0   \n",
       "4               93.0                218.0           0.041           18.0   \n",
       "\n",
       "   hour_bef_pm2.5  \n",
       "0            27.0  \n",
       "1            36.0  \n",
       "2            28.0  \n",
       "3            38.0  \n",
       "4            15.0  "
      ]
     },
     "execution_count": 67,
     "metadata": {},
     "output_type": "execute_result"
    }
   ],
   "source": [
    "test.head()\n"
   ]
  },
  {
   "cell_type": "code",
   "execution_count": 29,
   "id": "0cdd6efc",
   "metadata": {},
   "outputs": [],
   "source": [
    "## 열평균으로 결측치 대체\n",
    "# train.fillna({'hour_bef_temperature':int(train['hour_bef_temperature'].mean())}, inplace=True)\n",
    "# train.fillna({'hour_bef_precipitation':int(train['hour_bef_precipitation'].mean())}, inplace=True)\n",
    "# train.fillna({'hour_bef_windspeed':int(train['hour_bef_windspeed'].mean())}, inplace=True)\n",
    "# train.fillna({'hour_bef_humidity':int(train['hour_bef_humidity'].mean())}, inplace=True)\n",
    "# train.fillna({'hour_bef_visibility':int(train['hour_bef_visibility'].mean())}, inplace=True)\n",
    "# train.fillna({'hour_bef_ozone':int(train['hour_bef_ozone'].mean())}, inplace=True)\n",
    "# train.fillna({'hour_bef_pm10':int(train['hour_bef_pm10'].mean())}, inplace=True)\n",
    "# train.fillna({'hour_bef_pm2.5':int(train['hour_bef_pm2.5'].mean())}, inplace=True)\n",
    "\n",
    "# 보간법으로 결측치 대체\n",
    "train.interpolate(inplace=True)\n",
    "test.interpolate(inplace=True)"
   ]
  },
  {
   "cell_type": "code",
   "execution_count": 35,
   "id": "f7e1e841",
   "metadata": {},
   "outputs": [
    {
     "data": {
      "text/plain": [
       "(1459, 11)"
      ]
     },
     "execution_count": 35,
     "metadata": {},
     "output_type": "execute_result"
    }
   ],
   "source": [
    "train.shape"
   ]
  },
  {
   "cell_type": "markdown",
   "id": "01c278fc",
   "metadata": {},
   "source": [
    "# 모델구현"
   ]
  },
  {
   "cell_type": "code",
   "execution_count": 36,
   "id": "5ac2f302",
   "metadata": {},
   "outputs": [],
   "source": [
    "from sklearn.ensemble import RandomForestRegressor\n",
    "\n",
    "model = RandomForestRegressor()"
   ]
  },
  {
   "cell_type": "code",
   "execution_count": 63,
   "id": "986825d5",
   "metadata": {},
   "outputs": [
    {
     "name": "stderr",
     "output_type": "stream",
     "text": [
      "C:\\Users\\user\\anaconda3\\lib\\site-packages\\sklearn\\ensemble\\_forest.py:396: FutureWarning: Criterion 'mse' was deprecated in v1.0 and will be removed in version 1.2. Use `criterion='squared_error'` which is equivalent.\n",
      "  warn(\n"
     ]
    },
    {
     "data": {
      "text/plain": [
       "RandomForestRegressor(criterion='mse')"
      ]
     },
     "execution_count": 63,
     "metadata": {},
     "output_type": "execute_result"
    }
   ],
   "source": [
    "# X_train = train.drop(['count'], axis=1)\n",
    "Y_train = train['count']\n",
    "\n",
    "model = RandomForestRegressor(criterion = 'mse')\n",
    "model.fit(X_train, Y_train)\n"
   ]
  },
  {
   "cell_type": "code",
   "execution_count": 41,
   "id": "8dbe9bbe",
   "metadata": {},
   "outputs": [
    {
     "data": {
      "text/plain": [
       "array([0.02663803, 0.59548078, 0.17836277, 0.01928792, 0.02593601,\n",
       "       0.03656834, 0.03242656, 0.03372985, 0.03109853, 0.02047121])"
      ]
     },
     "execution_count": 41,
     "metadata": {},
     "output_type": "execute_result"
    }
   ],
   "source": [
    "model.feature_importances_"
   ]
  },
  {
   "cell_type": "code",
   "execution_count": 68,
   "id": "f085d9d7",
   "metadata": {
    "scrolled": true
   },
   "outputs": [],
   "source": [
    "# X_train 에서 drop 할 피쳐의 경우에 수 대로 3개의 X_train 을 생성하세요.\n",
    "\n",
    "X_train_1 = train.drop(['count','id'], axis=1)\n",
    "X_train_2 = train.drop(['count', 'id', 'hour_bef_windspeed'], axis=1)\n",
    "X_train_3 = train.drop(['count', 'id', 'hour_bef_windspeed', 'hour_bef_pm2.5'], axis=1)\n",
    "\n",
    "# 각 train 에 따라 동일하게 피쳐를 drop 한 test 셋들을 생성하세요.\n",
    "\n",
    "test_1 = test.drop(['id'], axis=1)\n",
    "test_2 = test.drop(['id', 'hour_bef_windspeed'], axis=1)\n",
    "test_3 = test.drop(['id', 'hour_bef_windspeed', 'hour_bef_pm2.5'], axis=1)"
   ]
  },
  {
   "cell_type": "code",
   "execution_count": 69,
   "id": "696c807d",
   "metadata": {
    "scrolled": false
   },
   "outputs": [
    {
     "name": "stderr",
     "output_type": "stream",
     "text": [
      "C:\\Users\\user\\anaconda3\\lib\\site-packages\\sklearn\\ensemble\\_forest.py:396: FutureWarning: Criterion 'mse' was deprecated in v1.0 and will be removed in version 1.2. Use `criterion='squared_error'` which is equivalent.\n",
      "  warn(\n",
      "C:\\Users\\user\\anaconda3\\lib\\site-packages\\sklearn\\ensemble\\_forest.py:396: FutureWarning: Criterion 'mse' was deprecated in v1.0 and will be removed in version 1.2. Use `criterion='squared_error'` which is equivalent.\n",
      "  warn(\n",
      "C:\\Users\\user\\anaconda3\\lib\\site-packages\\sklearn\\ensemble\\_forest.py:396: FutureWarning: Criterion 'mse' was deprecated in v1.0 and will be removed in version 1.2. Use `criterion='squared_error'` which is equivalent.\n",
      "  warn(\n"
     ]
    },
    {
     "data": {
      "text/plain": [
       "RandomForestRegressor(criterion='mse')"
      ]
     },
     "execution_count": 69,
     "metadata": {},
     "output_type": "execute_result"
    }
   ],
   "source": [
    "\n",
    "model_input_var1 = RandomForestRegressor(criterion = 'mse')\n",
    "model_input_var1.fit(X_train_1, Y_train)\n",
    "\n",
    "model_input_var2 = RandomForestRegressor(criterion = 'mse')\n",
    "model_input_var2.fit(X_train_2, Y_train)\n",
    "\n",
    "model_input_var3 = RandomForestRegressor(criterion = 'mse')\n",
    "model_input_var3.fit(X_train_3, Y_train)"
   ]
  },
  {
   "cell_type": "code",
   "execution_count": 70,
   "id": "4f10669e",
   "metadata": {},
   "outputs": [],
   "source": [
    "y_pred_1 = model_input_var1.predict(test_1)\n",
    "y_pred_2 = model_input_var2.predict(test_2)\n",
    "y_pred_3 = model_input_var3.predict(test_3)"
   ]
  },
  {
   "cell_type": "code",
   "execution_count": 73,
   "id": "15e1b0c7",
   "metadata": {
    "scrolled": true
   },
   "outputs": [
    {
     "data": {
      "text/plain": [
       "array([0.60240161, 0.19557898, 0.0190468 , 0.04600996, 0.04167676,\n",
       "       0.04812943, 0.04715646])"
      ]
     },
     "execution_count": 73,
     "metadata": {},
     "output_type": "execute_result"
    }
   ],
   "source": [
    "model_input_var3.feature_importances_"
   ]
  },
  {
   "cell_type": "markdown",
   "id": "99248769",
   "metadata": {},
   "source": [
    "# 저장"
   ]
  },
  {
   "cell_type": "code",
   "execution_count": 74,
   "id": "c2779318",
   "metadata": {},
   "outputs": [],
   "source": [
    "\n",
    "submission_1 = pd.read_csv('submission.csv')\n",
    "submission_2 = pd.read_csv('submission.csv')\n",
    "submission_3 = pd.read_csv('submission.csv')\n",
    "\n",
    "submission_1['count'] = y_pred_1\n",
    "submission_2['count'] = y_pred_2\n",
    "submission_3['count'] = y_pred_3\n",
    "\n",
    "submission_1.to_csv('sub_1.csv',index=False)\n",
    "submission_2.to_csv('sub_2.csv',index=False)\n",
    "submission_3.to_csv('sub_3.csv',index=False)"
   ]
  },
  {
   "cell_type": "markdown",
   "id": "0205ccdb",
   "metadata": {},
   "source": [
    "# GridSearch"
   ]
  },
  {
   "cell_type": "code",
   "execution_count": 76,
   "id": "ea077168",
   "metadata": {},
   "outputs": [
    {
     "name": "stderr",
     "output_type": "stream",
     "text": [
      "C:\\Users\\user\\anaconda3\\lib\\site-packages\\sklearn\\model_selection\\_validation.py:372: FitFailedWarning: \n",
      "27 fits failed out of a total of 81.\n",
      "The score on these train-test partitions for these parameters will be set to nan.\n",
      "If these failures are not expected, you can try to debug them by setting error_score='raise'.\n",
      "\n",
      "Below are more details about the failures:\n",
      "--------------------------------------------------------------------------------\n",
      "27 fits failed with the following error:\n",
      "Traceback (most recent call last):\n",
      "  File \"C:\\Users\\user\\anaconda3\\lib\\site-packages\\sklearn\\model_selection\\_validation.py\", line 680, in _fit_and_score\n",
      "    estimator.fit(X_train, y_train, **fit_params)\n",
      "  File \"C:\\Users\\user\\anaconda3\\lib\\site-packages\\sklearn\\ensemble\\_forest.py\", line 450, in fit\n",
      "    trees = Parallel(\n",
      "  File \"C:\\Users\\user\\anaconda3\\lib\\site-packages\\joblib\\parallel.py\", line 1043, in __call__\n",
      "    if self.dispatch_one_batch(iterator):\n",
      "  File \"C:\\Users\\user\\anaconda3\\lib\\site-packages\\joblib\\parallel.py\", line 861, in dispatch_one_batch\n",
      "    self._dispatch(tasks)\n",
      "  File \"C:\\Users\\user\\anaconda3\\lib\\site-packages\\joblib\\parallel.py\", line 779, in _dispatch\n",
      "    job = self._backend.apply_async(batch, callback=cb)\n",
      "  File \"C:\\Users\\user\\anaconda3\\lib\\site-packages\\joblib\\_parallel_backends.py\", line 208, in apply_async\n",
      "    result = ImmediateResult(func)\n",
      "  File \"C:\\Users\\user\\anaconda3\\lib\\site-packages\\joblib\\_parallel_backends.py\", line 572, in __init__\n",
      "    self.results = batch()\n",
      "  File \"C:\\Users\\user\\anaconda3\\lib\\site-packages\\joblib\\parallel.py\", line 262, in __call__\n",
      "    return [func(*args, **kwargs)\n",
      "  File \"C:\\Users\\user\\anaconda3\\lib\\site-packages\\joblib\\parallel.py\", line 262, in <listcomp>\n",
      "    return [func(*args, **kwargs)\n",
      "  File \"C:\\Users\\user\\anaconda3\\lib\\site-packages\\sklearn\\utils\\fixes.py\", line 216, in __call__\n",
      "    return self.function(*args, **kwargs)\n",
      "  File \"C:\\Users\\user\\anaconda3\\lib\\site-packages\\sklearn\\ensemble\\_forest.py\", line 185, in _parallel_build_trees\n",
      "    tree.fit(X, y, sample_weight=curr_sample_weight, check_input=False)\n",
      "  File \"C:\\Users\\user\\anaconda3\\lib\\site-packages\\sklearn\\tree\\_classes.py\", line 1315, in fit\n",
      "    super().fit(\n",
      "  File \"C:\\Users\\user\\anaconda3\\lib\\site-packages\\sklearn\\tree\\_classes.py\", line 308, in fit\n",
      "    raise ValueError(\"max_features must be in (0, n_features]\")\n",
      "ValueError: max_features must be in (0, n_features]\n",
      "\n",
      "  warnings.warn(some_fits_failed_message, FitFailedWarning)\n",
      "C:\\Users\\user\\anaconda3\\lib\\site-packages\\sklearn\\model_selection\\_search.py:969: UserWarning: One or more of the test scores are non-finite: [0.76557759 0.76712302 0.76653769 0.76275137 0.76367418 0.76389174\n",
      " 0.75794825 0.7581577  0.75768794 0.76688403 0.76913649 0.76754002\n",
      " 0.76521667 0.7673473  0.76558312 0.75740702 0.75881791 0.75775287\n",
      "        nan        nan        nan        nan        nan        nan\n",
      "        nan        nan        nan]\n",
      "  warnings.warn(\n",
      "C:\\Users\\user\\anaconda3\\lib\\site-packages\\sklearn\\ensemble\\_forest.py:396: FutureWarning: Criterion 'mse' was deprecated in v1.0 and will be removed in version 1.2. Use `criterion='squared_error'` which is equivalent.\n",
      "  warn(\n"
     ]
    },
    {
     "data": {
      "text/plain": [
       "GridSearchCV(cv=3,\n",
       "             estimator=RandomForestRegressor(criterion='mse',\n",
       "                                             random_state=2020),\n",
       "             n_jobs=-1,\n",
       "             param_grid={'max_features': [5, 6, 8],\n",
       "                         'min_samples_leaf': [1, 3, 5],\n",
       "                         'n_estimators': [200, 300, 500]})"
      ]
     },
     "execution_count": 76,
     "metadata": {},
     "output_type": "execute_result"
    }
   ],
   "source": [
    "from sklearn.model_selection import GridSearchCV\n",
    "\n",
    "\n",
    "model = RandomForestRegressor(criterion = 'mse', random_state=2020)\n",
    "\n",
    "\n",
    "params = {'n_estimators': [200, 300, 500],\n",
    "          'max_features': [5, 6, 8],\n",
    "          'min_samples_leaf': [1, 3, 5]}\n",
    "\n",
    "\n",
    "greedy_CV = GridSearchCV(model, param_grid=params, cv = 3, n_jobs = -1)\n",
    "greedy_CV.fit(X_train_3, Y_train)"
   ]
  },
  {
   "cell_type": "code",
   "execution_count": 79,
   "id": "81c4cf79",
   "metadata": {},
   "outputs": [],
   "source": [
    "pred = greedy_CV.predict(test_3)"
   ]
  },
  {
   "cell_type": "code",
   "execution_count": 80,
   "id": "8859d7ee",
   "metadata": {
    "scrolled": true
   },
   "outputs": [
    {
     "data": {
      "text/plain": [
       "array([105.54333333, 214.12      ,  84.47      ,  40.77      ,\n",
       "        59.20333333, 123.42333333, 194.43333333, 317.70666667,\n",
       "        42.04      , 111.56333333, 295.17666667, 250.64      ,\n",
       "        88.01666667,  41.04      , 208.23333333, 142.61      ,\n",
       "        26.64      , 171.33333333, 348.24333333, 153.84      ,\n",
       "       232.16      ,  85.77333333,  25.5       , 140.47333333,\n",
       "       142.61      , 114.72      ,  29.69666667, 116.35666667,\n",
       "       112.89666667, 148.77      ,  75.32      ,  34.78333333,\n",
       "        62.47      , 130.01      , 267.44333333,  40.01666667,\n",
       "       129.84333333, 103.61666667, 244.90333333,  91.13      ,\n",
       "        54.85      , 122.29      , 152.97      ,  91.05333333,\n",
       "       333.61333333, 216.60333333,  94.61333333,  59.33333333,\n",
       "        18.46666667,  85.43      , 226.15666667,  91.92666667,\n",
       "       178.04      ,  82.18333333, 187.81666667, 131.50333333,\n",
       "        51.48      , 171.97666667,  22.02      ,  20.24333333,\n",
       "        88.26      ,  88.27      , 255.10333333, 307.49333333,\n",
       "       162.25666667, 315.19666667,  24.67666667, 238.01      ,\n",
       "       135.18      ,  32.99666667, 101.29333333,  32.38      ,\n",
       "       125.88666667,  15.18666667, 314.98333333, 230.85333333,\n",
       "        35.42333333, 183.04666667, 232.28      ,  28.07666667,\n",
       "       247.66      , 131.65333333,  80.71333333,  84.99333333,\n",
       "        95.15333333, 330.78666667,  49.37333333, 167.04      ,\n",
       "       111.36333333, 278.51333333, 284.12333333, 157.32333333,\n",
       "        66.17333333, 101.31333333,  40.25      ,  83.71666667,\n",
       "        96.17666667,  28.39333333, 220.46666667, 148.11666667,\n",
       "        18.15333333, 145.8       ,  38.43333333, 123.23333333,\n",
       "        79.73333333,  64.41      , 101.94333333,  25.81333333,\n",
       "       168.39333333, 126.44333333, 175.7       , 237.96333333,\n",
       "       157.78666667, 115.92      ,  58.43666667, 118.72333333,\n",
       "       235.84      ,  37.30666667, 192.02      ,  18.16666667,\n",
       "       102.00333333, 112.00333333, 171.76666667, 117.71      ,\n",
       "        51.51666667, 118.05      ,  56.21333333,  14.99333333,\n",
       "       239.43      ,  57.05666667, 128.08666667, 160.49666667,\n",
       "        18.4       , 140.42333333, 305.86666667, 130.11666667,\n",
       "        45.59      , 141.82666667, 246.72333333, 358.15666667,\n",
       "       198.94      ,  33.49      ,  36.71666667, 106.89333333,\n",
       "        89.53      , 116.45      , 107.79333333, 122.95      ,\n",
       "       155.19666667, 235.62333333, 126.99      , 284.41333333,\n",
       "       314.14      , 242.04      , 155.21666667,  10.42666667,\n",
       "       114.55      ,  19.14666667,  96.00666667, 139.77333333,\n",
       "       138.69666667,  26.26333333, 210.75      , 236.88333333,\n",
       "       124.33666667,  21.76333333, 225.37      , 154.63      ,\n",
       "       282.23      ,  24.44666667, 124.44333333, 117.83      ,\n",
       "        88.65333333, 127.76333333,  99.25666667, 102.17666667,\n",
       "       218.92333333, 206.4       , 155.98666667, 110.93666667,\n",
       "       214.28333333, 165.41666667, 153.35666667, 245.27      ,\n",
       "       145.27333333, 105.43333333, 112.89      , 299.88666667,\n",
       "       166.8       ,  49.64666667,  40.31      , 142.84666667,\n",
       "       121.96333333, 109.3       , 120.03666667, 275.36      ,\n",
       "       328.43333333, 133.79      , 120.26      , 103.78333333,\n",
       "        24.35      , 208.64      ,  22.61666667, 333.74333333,\n",
       "       145.19666667,  43.58      , 132.09666667, 230.40333333,\n",
       "       214.57      ,  60.80666667, 280.10666667, 172.26333333,\n",
       "       130.69333333, 221.56333333, 252.43      , 126.74333333,\n",
       "       233.22      , 117.75333333, 137.07      ,  94.41333333,\n",
       "       102.80333333,  31.34333333, 109.80333333,  74.05666667,\n",
       "       145.73      ,  38.87666667, 206.85333333, 181.76666667,\n",
       "        36.41      , 187.49      , 252.97666667, 108.82      ,\n",
       "        27.62333333,  70.76      , 195.19      , 103.11333333,\n",
       "       368.62666667, 321.04666667, 158.57666667, 191.9       ,\n",
       "        19.45      , 215.77333333,  32.02      , 135.19      ,\n",
       "       146.43      ,  98.46333333, 121.81333333, 234.64      ,\n",
       "       101.71666667,  23.06333333,  83.80333333, 253.79666667,\n",
       "       235.11333333, 186.62      , 142.27      , 191.18      ,\n",
       "        35.22      , 338.56666667,  74.57666667,  18.37333333,\n",
       "       166.10666667,  33.71333333, 227.36666667,  32.28      ,\n",
       "       182.54666667, 244.96666667,  23.25333333, 227.93666667,\n",
       "        86.15      , 184.11666667, 127.55333333, 102.29666667,\n",
       "        53.28333333, 321.02666667,  31.75666667, 265.84      ,\n",
       "        87.55      , 149.38666667, 202.97666667,  36.59666667,\n",
       "       285.54666667, 107.24333333,  15.78666667, 162.64666667,\n",
       "       186.32333333, 115.98666667, 244.61666667, 131.29666667,\n",
       "        69.53666667, 111.28333333, 119.17333333, 255.67666667,\n",
       "       173.52666667, 106.9       , 136.56666667,  41.48333333,\n",
       "       144.76666667,  46.95666667, 211.87      ,  20.64333333,\n",
       "        99.91333333, 200.47666667, 215.68      , 234.56      ,\n",
       "       363.88666667, 195.99333333, 137.08666667,  58.12666667,\n",
       "       164.57      ,  92.55333333, 262.91      , 252.1       ,\n",
       "       248.72333333,  50.29333333, 252.93333333, 189.69666667,\n",
       "       130.69333333,  38.68      ,  30.87666667,  18.21333333,\n",
       "       220.82333333,  29.73333333, 132.67333333, 146.71333333,\n",
       "        91.42333333, 363.74333333, 264.08666667, 100.10333333,\n",
       "        82.21333333, 104.30333333,  28.56      ,  98.58666667,\n",
       "        73.02666667, 187.85666667, 145.74      ,  37.35666667,\n",
       "       240.22      , 223.33666667, 141.62      , 351.86333333,\n",
       "        20.65666667,  30.61333333, 318.19666667, 185.19      ,\n",
       "       122.54666667,  23.20666667,  33.08      ,  99.35333333,\n",
       "       119.03666667, 289.17      , 214.82333333, 236.42666667,\n",
       "        60.29666667,  49.59333333, 209.58666667,  65.31      ,\n",
       "        20.54666667,  30.81666667, 103.10666667, 112.80666667,\n",
       "        66.37      , 209.77      , 243.79      , 185.03333333,\n",
       "       162.31      ,  40.23      ,  75.7       , 102.27666667,\n",
       "        21.62      , 193.51666667,  89.26666667,  68.29      ,\n",
       "       231.64      , 295.32333333, 221.03      ,  19.66      ,\n",
       "        41.49      , 182.94666667, 108.30333333,  46.36333333,\n",
       "       117.73      , 117.48333333, 306.52      , 285.95      ,\n",
       "       115.1       ,  81.20666667, 129.53666667, 156.07666667,\n",
       "       124.35666667, 240.55666667,  39.15666667, 147.78333333,\n",
       "       283.26333333,  52.4       , 116.57333333, 113.52666667,\n",
       "       263.66333333,  36.17666667,  27.88333333, 222.86      ,\n",
       "        20.43333333,  89.89666667,  22.61666667, 253.53333333,\n",
       "        92.25333333, 120.92666667, 159.07333333, 181.19666667,\n",
       "       120.66333333, 118.00333333, 162.78      , 286.73666667,\n",
       "       137.68333333, 119.94333333,  51.44      , 131.47333333,\n",
       "       172.19      , 117.9       ,  56.15333333,  55.82      ,\n",
       "        29.54666667,  33.47333333,  17.40333333,  37.27333333,\n",
       "       163.76      , 114.16333333, 101.07333333, 182.85666667,\n",
       "       108.85333333, 335.75      , 123.22666667, 172.88      ,\n",
       "       246.68      , 114.69666667, 114.21666667, 226.45666667,\n",
       "       326.01333333,  43.72333333, 115.50666667, 352.59666667,\n",
       "       256.15666667, 155.20666667,  45.28666667,  94.72666667,\n",
       "       115.89666667, 103.74333333, 109.57      ,  34.37666667,\n",
       "       324.60333333, 284.92333333, 228.65      , 111.86      ,\n",
       "       157.78666667, 215.        , 132.33666667, 141.48      ,\n",
       "       234.40666667, 105.87666667,  58.81333333, 120.90666667,\n",
       "       192.34333333, 125.1       , 114.30333333, 117.38      ,\n",
       "        92.79666667, 141.45333333, 266.32      ,  98.11      ,\n",
       "       171.82666667, 185.39333333, 238.03333333,  53.32333333,\n",
       "       323.42666667,  92.18333333, 144.57333333, 164.52333333,\n",
       "        21.84333333,  27.45      , 233.26666667, 276.57333333,\n",
       "       106.17      , 104.2       ,  33.34666667,  24.52      ,\n",
       "       270.71333333, 141.84666667, 330.3       , 240.63      ,\n",
       "        84.00333333, 113.4       , 222.86333333, 169.05666667,\n",
       "        74.50333333,  73.55666667,  51.91333333, 178.93333333,\n",
       "       114.68333333, 231.13333333, 292.58666667, 230.65333333,\n",
       "        14.98666667, 228.93      ,  54.77666667,  81.18666667,\n",
       "        49.10333333, 236.87333333, 247.51333333,  30.18      ,\n",
       "       156.85      ,  65.95666667, 203.08666667, 206.41333333,\n",
       "       208.09      , 196.28666667, 355.00333333, 101.23333333,\n",
       "        35.41666667, 252.51666667, 138.59666667, 150.14333333,\n",
       "        34.07      , 233.17666667,  18.29      ,  51.71333333,\n",
       "        27.13333333,  79.97666667,  32.08333333, 186.91      ,\n",
       "       190.75333333, 148.03      ,  41.80333333,  94.26333333,\n",
       "        38.88      , 294.05333333,  94.93333333,  42.19      ,\n",
       "        99.93333333,  23.28333333,  45.07      ,  31.60666667,\n",
       "       300.98666667,  20.33      , 179.45666667, 248.87      ,\n",
       "       309.11666667, 212.76666667, 105.36333333, 118.39      ,\n",
       "       108.91333333, 103.19      , 203.96333333,  39.89666667,\n",
       "        18.93      , 141.19      ,  17.17333333, 178.7       ,\n",
       "       139.51      ,  50.        , 148.89333333, 204.01333333,\n",
       "       217.45333333, 334.        ,  26.97666667,  98.90333333,\n",
       "        36.97333333,  46.13333333,  99.95      , 107.68      ,\n",
       "        32.51333333, 173.92333333,  88.54      , 197.96333333,\n",
       "       121.52666667, 343.82333333, 174.85666667, 284.59333333,\n",
       "       126.13333333, 274.46      ,  64.33      ,  35.39      ,\n",
       "        27.48333333,  37.6       ,  87.46333333,  22.64666667,\n",
       "        20.59333333,  98.82      ,  26.09666667, 259.43333333,\n",
       "       218.98666667, 153.63333333,  85.99333333, 103.20333333,\n",
       "        36.08333333, 141.91      ,  98.36      , 128.85666667,\n",
       "       197.47333333,  22.86333333, 232.39333333, 122.55666667,\n",
       "        14.03666667, 273.33666667, 106.12666667,  35.88      ,\n",
       "        79.2       , 241.46      , 111.4       , 377.43      ,\n",
       "       279.78      , 217.83      , 214.91333333, 188.96666667,\n",
       "        18.44      , 113.94333333, 150.52666667,  29.06333333,\n",
       "        46.87      ,  89.99666667, 213.15333333, 189.67333333,\n",
       "        54.43333333, 174.41666667,  96.59666667, 251.26666667,\n",
       "       119.79666667, 319.26      ,  73.42333333,  32.35666667,\n",
       "        23.02333333, 231.53666667, 235.58666667,  92.4       ,\n",
       "       107.78333333,  33.63333333,  93.36333333, 140.97      ,\n",
       "       171.36666667, 106.55333333, 104.67      ,  44.28      ,\n",
       "       120.12666667, 104.52333333,  70.27      , 109.28333333,\n",
       "       327.93      , 130.06333333, 247.19      , 141.34333333,\n",
       "       284.34333333, 200.06666667,  86.51666667, 119.99      ,\n",
       "        93.37      , 303.49666667, 243.19      , 245.77      ,\n",
       "       107.48666667, 116.02333333, 123.62666667,  19.97      ,\n",
       "       127.88333333, 248.69333333,  35.88      ,  87.05      ,\n",
       "       114.78      , 119.45666667, 175.54      , 127.28      ,\n",
       "       305.71666667,  86.54666667, 101.92      , 132.91      ,\n",
       "       301.72333333, 110.41666667, 141.60666667, 137.06333333,\n",
       "        40.34      , 187.23      ,  25.05      ,  28.86333333,\n",
       "        24.56      , 226.91333333, 105.99333333, 140.46333333,\n",
       "       256.22666667, 135.56666667, 110.72      ,  31.12      ,\n",
       "       182.31      ,  18.02      , 136.88666667,  30.03666667,\n",
       "        42.51      ,  96.19      ,  53.47      , 197.75333333,\n",
       "        19.28333333, 102.96666667, 180.69      ,  32.01666667,\n",
       "       296.18666667, 278.81      ,  15.14666667, 366.67666667,\n",
       "       115.9       , 272.67      ,  38.75      ,  87.01      ,\n",
       "        39.17666667, 271.62333333,  55.02      ,  73.59666667,\n",
       "       118.92666667, 154.24666667, 197.77666667])"
      ]
     },
     "execution_count": 80,
     "metadata": {},
     "output_type": "execute_result"
    }
   ],
   "source": [
    "pred"
   ]
  },
  {
   "cell_type": "code",
   "execution_count": 81,
   "id": "db70da0a",
   "metadata": {},
   "outputs": [],
   "source": [
    "submission = pd.read_csv('submission.csv')"
   ]
  },
  {
   "cell_type": "code",
   "execution_count": 82,
   "id": "00c1376d",
   "metadata": {},
   "outputs": [],
   "source": [
    "import numpy as np\n",
    "\n",
    "submission['count'] = np.round(pred, 2)"
   ]
  },
  {
   "cell_type": "code",
   "execution_count": 83,
   "id": "84c20988",
   "metadata": {},
   "outputs": [
    {
     "data": {
      "text/html": [
       "<div>\n",
       "<style scoped>\n",
       "    .dataframe tbody tr th:only-of-type {\n",
       "        vertical-align: middle;\n",
       "    }\n",
       "\n",
       "    .dataframe tbody tr th {\n",
       "        vertical-align: top;\n",
       "    }\n",
       "\n",
       "    .dataframe thead th {\n",
       "        text-align: right;\n",
       "    }\n",
       "</style>\n",
       "<table border=\"1\" class=\"dataframe\">\n",
       "  <thead>\n",
       "    <tr style=\"text-align: right;\">\n",
       "      <th></th>\n",
       "      <th>id</th>\n",
       "      <th>count</th>\n",
       "    </tr>\n",
       "  </thead>\n",
       "  <tbody>\n",
       "    <tr>\n",
       "      <th>0</th>\n",
       "      <td>0</td>\n",
       "      <td>105.54</td>\n",
       "    </tr>\n",
       "    <tr>\n",
       "      <th>1</th>\n",
       "      <td>1</td>\n",
       "      <td>214.12</td>\n",
       "    </tr>\n",
       "    <tr>\n",
       "      <th>2</th>\n",
       "      <td>2</td>\n",
       "      <td>84.47</td>\n",
       "    </tr>\n",
       "    <tr>\n",
       "      <th>3</th>\n",
       "      <td>4</td>\n",
       "      <td>40.77</td>\n",
       "    </tr>\n",
       "    <tr>\n",
       "      <th>4</th>\n",
       "      <td>5</td>\n",
       "      <td>59.20</td>\n",
       "    </tr>\n",
       "  </tbody>\n",
       "</table>\n",
       "</div>"
      ],
      "text/plain": [
       "   id   count\n",
       "0   0  105.54\n",
       "1   1  214.12\n",
       "2   2   84.47\n",
       "3   4   40.77\n",
       "4   5   59.20"
      ]
     },
     "execution_count": 83,
     "metadata": {},
     "output_type": "execute_result"
    }
   ],
   "source": [
    "submission.head()"
   ]
  },
  {
   "cell_type": "code",
   "execution_count": 84,
   "id": "75ea2530",
   "metadata": {},
   "outputs": [],
   "source": [
    "submission.to_csv('sub.csv',index=False)"
   ]
  },
  {
   "cell_type": "code",
   "execution_count": null,
   "id": "30f24ff8",
   "metadata": {},
   "outputs": [],
   "source": []
  }
 ],
 "metadata": {
  "kernelspec": {
   "display_name": "Python 3 (ipykernel)",
   "language": "python",
   "name": "python3"
  },
  "language_info": {
   "codemirror_mode": {
    "name": "ipython",
    "version": 3
   },
   "file_extension": ".py",
   "mimetype": "text/x-python",
   "name": "python",
   "nbconvert_exporter": "python",
   "pygments_lexer": "ipython3",
   "version": "3.9.12"
  },
  "toc": {
   "base_numbering": 1,
   "nav_menu": {},
   "number_sections": true,
   "sideBar": true,
   "skip_h1_title": false,
   "title_cell": "Table of Contents",
   "title_sidebar": "Contents",
   "toc_cell": false,
   "toc_position": {},
   "toc_section_display": true,
   "toc_window_display": false
  }
 },
 "nbformat": 4,
 "nbformat_minor": 5
}
